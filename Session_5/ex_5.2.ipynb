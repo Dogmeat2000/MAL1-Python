﻿{
 "cells": [
  {
   "metadata": {},
   "cell_type": "code",
   "outputs": [],
   "execution_count": null,
   "source": [
    "import pandas as pd\n",
    "import numpy as np\n",
    "\n",
    "data = np.array([], []);"
   ],
   "id": "3f3df33ef49cd807"
  }
 ],
 "metadata": {},
 "nbformat": 5,
 "nbformat_minor": 9
}
