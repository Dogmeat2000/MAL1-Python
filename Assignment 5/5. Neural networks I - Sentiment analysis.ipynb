{
 "cells": [
  {
   "cell_type": "markdown",
   "id": "5bc9be56",
   "metadata": {},
   "source": [
    "## Sentiment Analysis"
   ]
  },
  {
   "cell_type": "markdown",
   "id": "818b3b52",
   "metadata": {},
   "source": [
    "In this exercise we use the IMDb-dataset, which we will use to perform a sentiment analysis. The code below assumes that the data is placed in the same folder as this notebook. We see that the reviews are loaded as a pandas dataframe, and print the beginning of the first few reviews."
   ]
  },
  {
   "cell_type": "code",
   "id": "67da3bc0",
   "metadata": {
    "ExecuteTime": {
     "end_time": "2025-04-17T17:16:04.950308Z",
     "start_time": "2025-04-17T17:16:04.947035Z"
    }
   },
   "source": [
    "#import numpy as np\n",
    "#import pandas as pd\n",
    "\n",
    "#reviews = pd.read_csv('reviews.txt', header=None)\n",
    "#labels = pd.read_csv('labels.txt', header=None)\n",
    "#Y = (labels=='positive').astype(np.int_)\n",
    "\n",
    "#print(type(reviews))\n",
    "#print(reviews.head())"
   ],
   "outputs": [],
   "execution_count": 41
  },
  {
   "cell_type": "markdown",
   "id": "4982b946",
   "metadata": {},
   "source": [
    "**(a)** Split the reviews and labels in test, train and validation sets. The train and validation sets will be used to train your model and tune hyperparameters, the test set will be saved for testing. Use the `CountVectorizer` from `sklearn.feature_extraction.text` to create a Bag-of-Words representation of the reviews. Only use the 10,000 most frequent words (use the `max_features`-parameter of `CountVectorizer`)."
   ]
  },
  {
   "cell_type": "markdown",
   "id": "ebf07ee9",
   "metadata": {},
   "source": "**(b)** Explore the representation of the reviews. How is a single word represented? How about a whole review?"
  },
  {
   "cell_type": "markdown",
   "id": "c2638fce",
   "metadata": {},
   "source": [
    "**(c)** Train a neural network with a single hidden layer on the dataset, tuning the relevant hyperparameters to optimize accuracy. "
   ]
  },
  {
   "cell_type": "markdown",
   "id": "1fd327a6",
   "metadata": {},
   "source": [
    "**(d)** Test your sentiment-classifier on the test set."
   ]
  },
  {
   "cell_type": "markdown",
   "id": "fd44ee62",
   "metadata": {},
   "source": [
    "**(e)** Use the classifier to classify a few sentences you write yourselves. "
   ]
  },
  {
   "cell_type": "code",
   "id": "a1ef2970",
   "metadata": {
    "ExecuteTime": {
     "end_time": "2025-04-17T17:16:04.964064Z",
     "start_time": "2025-04-17T17:16:04.958307Z"
    }
   },
   "source": [
    "# Library imports:\n",
    "import numpy as np\n",
    "import pandas as pd\n",
    "import matplotlib.pyplot as plt\n",
    "import tensorflow as tf\n",
    "from tensorflow.keras import layers\n",
    "from sklearn.model_selection import train_test_split, GridSearchCV\n",
    "from sklearn.pipeline import Pipeline\n",
    "from sklearn.feature_extraction.text import CountVectorizer\n",
    "from sklearn.metrics import accuracy_score, classification_report\n",
    "\n",
    "# Declare 'shared' variables:\n",
    "max_features_bag_of_words = 10000\n",
    "random_state = 946"
   ],
   "outputs": [],
   "execution_count": 42
  },
  {
   "metadata": {},
   "cell_type": "markdown",
   "source": [
    "### a)\n",
    "Split the reviews and labels in test, train and validation sets. The train and validation sets will be used to train your model and tune hyperparameters, the test set will be saved for testing. Use the `CountVectorizer` from `sklearn.feature_extraction.text` to create a Bag-of-Words representation of the reviews. Only use the 10,000 most frequent words (use the `max_features`-parameter of `CountVectorizer`).\n",
    "\n",
    "This approach is pretty standard and self-explanatory."
   ],
   "id": "2c4d5bf173bf038d"
  },
  {
   "metadata": {
    "ExecuteTime": {
     "end_time": "2025-04-17T17:16:05.348207Z",
     "start_time": "2025-04-17T17:16:04.981241Z"
    }
   },
   "cell_type": "code",
   "source": [
    "# Preparing the data:\n",
    "reviews = pd.read_csv('reviews.txt', header=None)[0]\n",
    "labels = pd.read_csv('labels.txt', header=None)[0]\n",
    "y = (labels == 'positive').astype(np.int_)\n",
    "\n",
    "# Split the data into training+validation and test sets.\n",
    "# 15% of the data for final testing.\n",
    "X_train_validation, X_test, y_train_validation, y_test = train_test_split(reviews, y, test_size=0.15, random_state=random_state)\n",
    "\n",
    "# Split the data into training and validation sets\n",
    "# 15% for validation (of the 85%)\n",
    "X_train, X_validation, y_train, y_validation = train_test_split(X_train_validation, y_train_validation, test_size=0.15, random_state=random_state)\n",
    "\n",
    "print(\"No. of training examples:\", len(X_train))\n",
    "print(\"No. of validation examples:\", len(X_validation))\n",
    "print(\"No. of test examples:\", len(X_test))"
   ],
   "id": "5545c868fd4b622",
   "outputs": [
    {
     "name": "stdout",
     "output_type": "stream",
     "text": [
      "No. of training examples: 18062\n",
      "No. of validation examples: 3188\n",
      "No. of test examples: 3750\n"
     ]
    }
   ],
   "execution_count": 43
  },
  {
   "metadata": {},
   "cell_type": "markdown",
   "source": "Using CountVectorizer to create a Bag-of-Words, containing only the 10,000 most frequent words.",
   "id": "ea4fea17b7b05f53"
  },
  {
   "metadata": {
    "ExecuteTime": {
     "end_time": "2025-04-17T17:16:09.903590Z",
     "start_time": "2025-04-17T17:16:05.366207Z"
    }
   },
   "cell_type": "code",
   "source": [
    "bagOfWords_vector = CountVectorizer(max_features=max_features_bag_of_words)\n",
    "X_train_bagOfWords = bagOfWords_vector.fit(X_train)\n",
    "X_validation_bagOfWords = bagOfWords_vector.transform(X_validation)\n",
    "X_test_bagOfWords = bagOfWords_vector.transform(X_test)"
   ],
   "id": "6422b4613c4c975c",
   "outputs": [],
   "execution_count": 44
  },
  {
   "metadata": {},
   "cell_type": "markdown",
   "source": [
    "## b)\n",
    "Explore the representation of the reviews. How is a single word represented? How about a whole review?\n",
    "\n",
    "Let's print parts of the generated bag-of-words vector and see how single words are represented:\n"
   ],
   "id": "40e1df8b5b68678e"
  },
  {
   "metadata": {
    "ExecuteTime": {
     "end_time": "2025-04-17T17:16:10.127946Z",
     "start_time": "2025-04-17T17:16:09.921417Z"
    }
   },
   "cell_type": "code",
   "source": [
    "# Let's take a look at the first review in the training data and see how this is represented.\n",
    "sample_review = X_train.iloc[0]\n",
    "sample_vector = bagOfWords_vector.transform([sample_review])\n",
    "\n",
    "# Convert to dense format and get feature names\n",
    "dense_vector = sample_vector.toarray()[0]\n",
    "feature_names = bagOfWords_vector.get_feature_names_out()\n",
    "\n",
    "# Map non-zero entries to their words and counts\n",
    "word_counts = {feature_names[i]: dense_vector[i] for i in range(len(dense_vector)) if dense_vector[i] > 0}\n",
    "\n",
    "# Sort and visualize top words\n",
    "sorted_word_counts = dict(sorted(word_counts.items(), key=lambda item: item[1], reverse=True))\n",
    "\n",
    "print(f\"Original review:\\n{sample_review}\\n\")\n",
    "print(\"Bag-of-Words representation (non-zero counts):\")\n",
    "for word, count in sorted_word_counts.items():\n",
    "    print(f\"{word}: {count}\")\n",
    "\n",
    "top_n = 10\n",
    "plt.figure(figsize=(12, 5))\n",
    "plt.bar(list(sorted_word_counts.keys())[:top_n], list(sorted_word_counts.values())[:top_n])\n",
    "plt.xticks(rotation=45)\n",
    "plt.title(\"Top Words in Sample Review (Bag-of-Words)\")\n",
    "plt.xlabel(\"Words\")\n",
    "plt.ylabel(\"Count\")\n",
    "plt.tight_layout()\n",
    "plt.show()\n",
    "\n",
    "# Now let's take a look at how single words are represented.\n",
    "# I choose the word 'the' to investigate, as this appears most times in the review.\n",
    "word = \"the\"\n",
    "\n",
    "# I can now get the index of this word:\n",
    "word_index = bagOfWords_vector.vocabulary_.get(word)\n",
    "print(f\"The word '{word}' is in the vocabulary at index {word_index}\")\n",
    "\n",
    "# Let's see how the review is actually represented (only first 50 values shown)\n",
    "print(\"Full vector (first 100 values):\")\n",
    "print(dense_vector[:100])\n",
    "\n",
    "# Let's see how many non-zero values exist:\n",
    "non_zero_count = np.count_nonzero(dense_vector)\n",
    "print(f\"Number of words with non-zero frequency: {non_zero_count}\")\n",
    "print(f\"Total vector size: {len(dense_vector)}\")"
   ],
   "id": "43dd4d96ef8ea4e4",
   "outputs": [
    {
     "name": "stdout",
     "output_type": "stream",
     "text": [
      "Original review:\n",
      "what happened   doubt  had so much potential to be a brilliant film  but instead it faltered with a dragging simplistic plot line which made me want to stop watching . the only thing the film had going for it was the brilliance of meryl streep  who no doubt deserved the oscar  nomination . though it was not one of her best performances  she still gave a solid and truthful character to us which blossomed through the screen .  br    br   however  not even the brilliance of a screen legend could save this film from going down hill . from the boring start  which had no power or punch  to the less than convincing ending  the film was truly a disappointment  especially since it provided so much potential through its promotion and trailers . it was obvious the director had trouble with the simplicity of the plot and he ended up with a boring film  which dragged on for too long  with too much talk and not enough action .  br    br   furthermore  the other oscar  nominations were less than convincing . though philip seymour hoffman gave a decent performance  it was by no means oscar  worthy .  especially since they completely left out performances such as will smith  in seven pounds  . amy adams did not deserve the nomination . watching amy adams was like watching a cardboard box  as it was one sided and plain . it would have made more sense to nominate her for a razzie  as i am sure she would have walked away victorious . viola davis gave a short but truthful performance  but the length of her performance made me question whether the academy really should have given her the nomination .  br    br   overall  i consider doubt to be one of the most disappointing films of     . it was a mess of a film with so much potential  and i do not recommend it . the only shining light in the film is meryl streep  who though gives a stunning  solid performance  doesn  t even do enough to save this film .     .  \n",
      "\n",
      "Bag-of-Words representation (non-zero counts):\n",
      "the: 20\n",
      "it: 10\n",
      "film: 8\n",
      "of: 8\n",
      "was: 8\n",
      "to: 7\n",
      "and: 6\n",
      "br: 6\n",
      "not: 5\n",
      "with: 5\n",
      "had: 4\n",
      "her: 4\n",
      "much: 4\n",
      "performance: 4\n",
      "which: 4\n",
      "as: 3\n",
      "but: 3\n",
      "doubt: 3\n",
      "for: 3\n",
      "gave: 3\n",
      "have: 3\n",
      "made: 3\n",
      "no: 3\n",
      "nomination: 3\n",
      "one: 3\n",
      "oscar: 3\n",
      "potential: 3\n",
      "so: 3\n",
      "though: 3\n",
      "watching: 3\n",
      "adams: 2\n",
      "amy: 2\n",
      "be: 2\n",
      "boring: 2\n",
      "brilliance: 2\n",
      "convincing: 2\n",
      "do: 2\n",
      "enough: 2\n",
      "especially: 2\n",
      "even: 2\n",
      "from: 2\n",
      "going: 2\n",
      "in: 2\n",
      "less: 2\n",
      "me: 2\n",
      "meryl: 2\n",
      "only: 2\n",
      "performances: 2\n",
      "plot: 2\n",
      "save: 2\n",
      "screen: 2\n",
      "she: 2\n",
      "since: 2\n",
      "solid: 2\n",
      "streep: 2\n",
      "than: 2\n",
      "this: 2\n",
      "through: 2\n",
      "too: 2\n",
      "truthful: 2\n",
      "who: 2\n",
      "would: 2\n",
      "academy: 1\n",
      "action: 1\n",
      "am: 1\n",
      "away: 1\n",
      "best: 1\n",
      "box: 1\n",
      "brilliant: 1\n",
      "by: 1\n",
      "cardboard: 1\n",
      "character: 1\n",
      "completely: 1\n",
      "consider: 1\n",
      "could: 1\n",
      "davis: 1\n",
      "decent: 1\n",
      "deserve: 1\n",
      "deserved: 1\n",
      "did: 1\n",
      "director: 1\n",
      "disappointing: 1\n",
      "disappointment: 1\n",
      "doesn: 1\n",
      "down: 1\n",
      "dragged: 1\n",
      "dragging: 1\n",
      "ended: 1\n",
      "ending: 1\n",
      "films: 1\n",
      "furthermore: 1\n",
      "given: 1\n",
      "gives: 1\n",
      "happened: 1\n",
      "he: 1\n",
      "hill: 1\n",
      "hoffman: 1\n",
      "however: 1\n",
      "instead: 1\n",
      "is: 1\n",
      "its: 1\n",
      "left: 1\n",
      "legend: 1\n",
      "length: 1\n",
      "light: 1\n",
      "like: 1\n",
      "line: 1\n",
      "long: 1\n",
      "means: 1\n",
      "mess: 1\n",
      "more: 1\n",
      "most: 1\n",
      "nominations: 1\n",
      "obvious: 1\n",
      "on: 1\n",
      "or: 1\n",
      "other: 1\n",
      "out: 1\n",
      "overall: 1\n",
      "philip: 1\n",
      "plain: 1\n",
      "pounds: 1\n",
      "power: 1\n",
      "promotion: 1\n",
      "provided: 1\n",
      "punch: 1\n",
      "question: 1\n",
      "really: 1\n",
      "recommend: 1\n",
      "sense: 1\n",
      "seven: 1\n",
      "seymour: 1\n",
      "shining: 1\n",
      "short: 1\n",
      "should: 1\n",
      "sided: 1\n",
      "simplicity: 1\n",
      "simplistic: 1\n",
      "smith: 1\n",
      "start: 1\n",
      "still: 1\n",
      "stop: 1\n",
      "stunning: 1\n",
      "such: 1\n",
      "sure: 1\n",
      "talk: 1\n",
      "they: 1\n",
      "thing: 1\n",
      "trailers: 1\n",
      "trouble: 1\n",
      "truly: 1\n",
      "up: 1\n",
      "us: 1\n",
      "walked: 1\n",
      "want: 1\n",
      "were: 1\n",
      "what: 1\n",
      "whether: 1\n",
      "will: 1\n",
      "worthy: 1\n"
     ]
    },
    {
     "data": {
      "text/plain": [
       "<Figure size 1200x500 with 1 Axes>"
      ],
      "image/png": "[encoded data removed]"
     },
     "metadata": {},
     "output_type": "display_data"
    },
    {
     "name": "stdout",
     "output_type": "stream",
     "text": [
      "The word 'the' is in the vocabulary at index 8956\n",
      "Full vector (first 100 values):\n",
      "[0 0 0 0 0 0 0 0 0 0 0 0 0 0 0 0 0 0 0 0 0 0 0 0 0 0 0 0 0 0 0 0 0 0 1 0 0\n",
      " 0 0 0 0 0 0 0 0 0 0 0 0 0 0 0 0 0 0 0 0 0 0 0 0 0 0 0 0 0 0 0 0 0 0 0 0 0\n",
      " 0 0 0 0 0 1 0 0 0 0 0 0 0 0 0 0 0 0 0 0 2 0 0 0 0 0]\n",
      "Number of words with non-zero frequency: 160\n",
      "Total vector size: 10000\n"
     ]
    }
   ],
   "execution_count": 45
  },
  {
   "metadata": {},
   "cell_type": "markdown",
   "source": [
    "**Whole Review:** We see that the whole review is represented by a number of individual words. The bag of words, when fitted, stores each words in a vector with a weight assigned to each word corresponding to how many times the individual word appears in the review/text. It is worth noting that the review is only displayed using the top words that were fit into the primary bag of words trained vector (i.e. 10.000 top words). That causes 'holes' to appear, when reading the review. In essence, the bag of words vector represents a 10.000 dimensional array, where most values are zero (sparse) and if a word appears in the review, it's index will have a non-zero count.\n",
    "\n",
    "The vectorized review is displayed as [0 0 0 0 0 0 0 0 0 0 1 0 0 2 0 0 0 0 0 ... etc], where each word in the bag of words has a index position and when a word in the actual review matches one of these words, its count is increased by one.\n",
    "\n",
    "Each word is represented by its index position in the vectorized word array (i.e. we find the word 'the' at index 8958 and by reading that index we can get the count (how many times this word appears in the review)).\n",
    "\n",
    "\n",
    "### c)\n",
    "Train a neural network with a single hidden layer on the dataset, tuning the relevant hyperparameters to optimize accuracy.\n",
    "\n",
    "I'll be using the default configuration from table 11-2 in the Book (Hands-On Machine Learning ...)\n",
    "\n",
    "        Initialization          : He initialization\n",
    "        Activation function     : ELU\n",
    "        Normalization           : Batch Normalization\n",
    "        Regularization          : Dropout\n",
    "        Optimizer               : Adam\n",
    "        Learning rate schedule  : None"
   ],
   "id": "e0dde3048a0b21b3"
  },
  {
   "metadata": {
    "ExecuteTime": {
     "end_time": "2025-04-17T17:17:24.610308Z",
     "start_time": "2025-04-17T17:16:10.145946Z"
    }
   },
   "cell_type": "code",
   "source": [
    "# Transform the training, validation, and test sets using the CountVectorizer\n",
    "X_train_vect = bagOfWords_vector.transform(X_train).toarray()\n",
    "X_validation_vect = bagOfWords_vector.transform(X_validation).toarray()\n",
    "X_test_vect = bagOfWords_vector.transform(X_test).toarray()\n",
    "\n",
    "model = tf.keras.Sequential([\n",
    "    # This is the first 'hidden' layer with 128 perceptrons.\n",
    "    layers.Dense(128, kernel_initializer=\"he_normal\"),\n",
    "    layers.BatchNormalization(),\n",
    "    layers.Activation(\"elu\"),\n",
    "    layers.Dropout(0.2),\n",
    "\n",
    "    # This is the output layer:\n",
    "    layers.Dense(1, activation=\"sigmoid\")\n",
    "])\n",
    "\n",
    "# Compile the model for training, using the recommended default configuration:\n",
    "model.compile(\n",
    "    loss=\"binary_crossentropy\",\n",
    "    optimizer=tf.keras.optimizers.Adam(),\n",
    "    metrics=[\"accuracy\"]\n",
    ")\n",
    "\n",
    "\n",
    "# Here I train (fit) the actual model. It returns a History object that can be used for model evaluation:\n",
    "history = model.fit(\n",
    "    X_train_vect, y_train,\n",
    "    epochs=30,\n",
    "    batch_size=64,\n",
    "    validation_data=(X_validation_vect, y_validation),\n",
    "    verbose=2\n",
    ")\n",
    "\n",
    "# Now I evaluate the model for accuracy against the validation data\n",
    "val_loss, val_acc = model.evaluate(X_validation_vect, y_validation, verbose=0)\n",
    "print(f\"Validation Accuracy: {val_acc:.4f}\")\n",
    "\n",
    "# Let's compare this to the external test data:\n",
    "test_loss, test_accuracy = model.evaluate(X_test_vect, y_test)\n",
    "print(f\"Test Accuracy: {test_accuracy:.4f}\")\n",
    "\n",
    "# Finally, let's generate a report:\n",
    "y_val_pred = (model.predict(X_test_vect) > 0.5).astype(int)\n",
    "print(classification_report(y_test, y_val_pred))"
   ],
   "id": "ebbcfce7d15865c0",
   "outputs": [
    {
     "name": "stdout",
     "output_type": "stream",
     "text": [
      "Epoch 1/30\n",
      "283/283 - 4s - 13ms/step - accuracy: 0.8458 - loss: 0.3610 - val_accuracy: 0.8839 - val_loss: 0.2794\n",
      "Epoch 2/30\n",
      "283/283 - 2s - 8ms/step - accuracy: 0.9227 - loss: 0.1957 - val_accuracy: 0.8855 - val_loss: 0.2877\n",
      "Epoch 3/30\n",
      "283/283 - 2s - 8ms/step - accuracy: 0.9425 - loss: 0.1452 - val_accuracy: 0.8723 - val_loss: 0.3384\n",
      "Epoch 4/30\n",
      "283/283 - 2s - 8ms/step - accuracy: 0.9533 - loss: 0.1191 - val_accuracy: 0.8670 - val_loss: 0.3652\n",
      "Epoch 5/30\n",
      "283/283 - 2s - 8ms/step - accuracy: 0.9663 - loss: 0.0894 - val_accuracy: 0.8683 - val_loss: 0.4150\n",
      "Epoch 6/30\n",
      "283/283 - 2s - 8ms/step - accuracy: 0.9694 - loss: 0.0829 - val_accuracy: 0.8711 - val_loss: 0.4395\n",
      "Epoch 7/30\n",
      "283/283 - 2s - 8ms/step - accuracy: 0.9758 - loss: 0.0665 - val_accuracy: 0.8692 - val_loss: 0.4963\n",
      "Epoch 8/30\n",
      "283/283 - 2s - 8ms/step - accuracy: 0.9748 - loss: 0.0659 - val_accuracy: 0.8654 - val_loss: 0.5299\n",
      "Epoch 9/30\n",
      "283/283 - 2s - 8ms/step - accuracy: 0.9771 - loss: 0.0588 - val_accuracy: 0.8582 - val_loss: 0.5622\n",
      "Epoch 10/30\n",
      "283/283 - 2s - 8ms/step - accuracy: 0.9792 - loss: 0.0558 - val_accuracy: 0.8651 - val_loss: 0.5703\n",
      "Epoch 11/30\n",
      "283/283 - 2s - 8ms/step - accuracy: 0.9777 - loss: 0.0576 - val_accuracy: 0.8639 - val_loss: 0.5725\n",
      "Epoch 12/30\n",
      "283/283 - 2s - 8ms/step - accuracy: 0.9817 - loss: 0.0482 - val_accuracy: 0.8617 - val_loss: 0.6067\n",
      "Epoch 13/30\n",
      "283/283 - 2s - 8ms/step - accuracy: 0.9859 - loss: 0.0388 - val_accuracy: 0.8604 - val_loss: 0.6934\n",
      "Epoch 14/30\n",
      "283/283 - 2s - 8ms/step - accuracy: 0.9882 - loss: 0.0320 - val_accuracy: 0.8573 - val_loss: 0.7413\n",
      "Epoch 15/30\n",
      "283/283 - 2s - 8ms/step - accuracy: 0.9851 - loss: 0.0394 - val_accuracy: 0.8532 - val_loss: 0.7857\n",
      "Epoch 16/30\n",
      "283/283 - 2s - 8ms/step - accuracy: 0.9837 - loss: 0.0402 - val_accuracy: 0.8529 - val_loss: 0.7768\n",
      "Epoch 17/30\n",
      "283/283 - 2s - 8ms/step - accuracy: 0.9856 - loss: 0.0387 - val_accuracy: 0.8607 - val_loss: 0.7343\n",
      "Epoch 18/30\n",
      "283/283 - 2s - 8ms/step - accuracy: 0.9864 - loss: 0.0325 - val_accuracy: 0.8582 - val_loss: 0.7682\n",
      "Epoch 19/30\n",
      "283/283 - 2s - 8ms/step - accuracy: 0.9852 - loss: 0.0381 - val_accuracy: 0.8610 - val_loss: 0.6930\n",
      "Epoch 20/30\n",
      "283/283 - 2s - 8ms/step - accuracy: 0.9878 - loss: 0.0321 - val_accuracy: 0.8592 - val_loss: 0.7526\n",
      "Epoch 21/30\n",
      "283/283 - 2s - 8ms/step - accuracy: 0.9884 - loss: 0.0310 - val_accuracy: 0.8623 - val_loss: 0.7217\n",
      "Epoch 22/30\n",
      "283/283 - 2s - 8ms/step - accuracy: 0.9927 - loss: 0.0215 - val_accuracy: 0.8610 - val_loss: 0.8117\n",
      "Epoch 23/30\n",
      "283/283 - 2s - 8ms/step - accuracy: 0.9913 - loss: 0.0243 - val_accuracy: 0.8620 - val_loss: 0.9006\n",
      "Epoch 24/30\n",
      "283/283 - 2s - 8ms/step - accuracy: 0.9936 - loss: 0.0195 - val_accuracy: 0.8545 - val_loss: 0.8627\n",
      "Epoch 25/30\n",
      "283/283 - 2s - 8ms/step - accuracy: 0.9892 - loss: 0.0298 - val_accuracy: 0.8595 - val_loss: 0.8112\n",
      "Epoch 26/30\n",
      "283/283 - 2s - 8ms/step - accuracy: 0.9913 - loss: 0.0230 - val_accuracy: 0.8598 - val_loss: 0.8380\n",
      "Epoch 27/30\n",
      "283/283 - 2s - 8ms/step - accuracy: 0.9917 - loss: 0.0232 - val_accuracy: 0.8563 - val_loss: 0.8827\n",
      "Epoch 28/30\n",
      "283/283 - 2s - 8ms/step - accuracy: 0.9919 - loss: 0.0197 - val_accuracy: 0.8585 - val_loss: 0.8850\n",
      "Epoch 29/30\n",
      "283/283 - 2s - 8ms/step - accuracy: 0.9905 - loss: 0.0258 - val_accuracy: 0.8566 - val_loss: 0.8686\n",
      "Epoch 30/30\n",
      "283/283 - 2s - 8ms/step - accuracy: 0.9915 - loss: 0.0228 - val_accuracy: 0.8573 - val_loss: 0.9233\n",
      "Validation Accuracy: 0.8573\n",
      "\u001B[1m118/118\u001B[0m \u001B[32m━━━━━━━━━━━━━━━━━━━━\u001B[0m\u001B[37m\u001B[0m \u001B[1m0s\u001B[0m 2ms/step - accuracy: 0.8586 - loss: 0.9337\n",
      "Test Accuracy: 0.8560\n",
      "\u001B[1m118/118\u001B[0m \u001B[32m━━━━━━━━━━━━━━━━━━━━\u001B[0m\u001B[37m\u001B[0m \u001B[1m0s\u001B[0m 2ms/step\n",
      "              precision    recall  f1-score   support\n",
      "\n",
      "           0       0.84      0.87      0.86      1857\n",
      "           1       0.87      0.84      0.85      1893\n",
      "\n",
      "    accuracy                           0.86      3750\n",
      "   macro avg       0.86      0.86      0.86      3750\n",
      "weighted avg       0.86      0.86      0.86      3750\n",
      "\n"
     ]
    }
   ],
   "execution_count": 46
  },
  {
   "metadata": {},
   "cell_type": "markdown",
   "source": [
    "### d)\n",
    "Test your sentiment-classifier on the test set.\n",
    "\n",
    "The sentiment-classifier was tested on the test set above -> As well as tested on the validation set. See conclusion below.\n",
    "\n",
    "**Conclusion:** The report demonstrates that the trained model has an overall accuracy of 86% with consistent results between accuracy, macro avg and weighed avg. Comparing to the final test accuracy at 85.6% with the final validation accuracy at 85.95% these values seem to correlate nicely, suggesting a good fit. It could be interesting to see what happens if I reduce the overfitting (decrease the val_loss in the epochs) and see how this translates to model accuracy on validation and test data.\n",
    "\n",
    "Furthermore, let's visualize a few of the classifications of the reviews for better visual overview:"
   ],
   "id": "28cd7a93f6d1e99f"
  },
  {
   "metadata": {
    "ExecuteTime": {
     "end_time": "2025-04-17T17:17:24.915942Z",
     "start_time": "2025-04-17T17:17:24.642475Z"
    }
   },
   "cell_type": "code",
   "source": [
    "test_sentences = [\n",
    "    reviews[0],\n",
    "    reviews[17],\n",
    "    reviews[34],\n",
    "    reviews[51],\n",
    "    reviews[68],\n",
    "    reviews[85]\n",
    "]\n",
    "\n",
    "test_vector = bagOfWords_vector.transform(test_sentences)\n",
    "test_predictions = model.predict(test_vector)\n",
    "\n",
    "counter = 0\n",
    "for sentence, prob in zip(test_sentences, test_predictions):\n",
    "    label = \"Positive\" if prob >= 0.5 else \"Negative\"\n",
    "    print(f\"Sentence: \\\"{sentence}\\\"\\n → Predicted: {label} ({prob[0]:.4f}). Should be: {labels[counter]}\\n\")\n",
    "    counter += 17"
   ],
   "id": "d3146eb92ce47c37",
   "outputs": [
    {
     "name": "stdout",
     "output_type": "stream",
     "text": [
      "\u001B[1m1/1\u001B[0m \u001B[32m━━━━━━━━━━━━━━━━━━━━\u001B[0m\u001B[37m\u001B[0m \u001B[1m0s\u001B[0m 141ms/step\n",
      "Sentence: \"bromwell high is a cartoon comedy . it ran at the same time as some other programs about school life  such as  teachers  . my   years in the teaching profession lead me to believe that bromwell high  s satire is much closer to reality than is  teachers  . the scramble to survive financially  the insightful students who can see right through their pathetic teachers  pomp  the pettiness of the whole situation  all remind me of the schools i knew and their students . when i saw the episode in which a student repeatedly tried to burn down the school  i immediately recalled . . . . . . . . . at . . . . . . . . . . high . a classic line inspector i  m here to sack one of your teachers . student welcome to bromwell high . i expect that many adults of my age think that bromwell high is far fetched . what a pity that it isn  t   \"\n",
      " → Predicted: Negative (0.3889). Should be: positive\n",
      "\n",
      "Sentence: \"this film is mediocre at best . angie harmon is as funny as a bag of hammers . her bitchy demeanor from  law and order  carries over in a failed attempt at comedy . charlie sheen is the only one to come out unscathed in this horrible anti  comedy . the only positive thing to come out of this mess is charlie and denise  s marriage . hopefully that effort produces better results .  \"\n",
      " → Predicted: Negative (0.0000). Should be: negative\n",
      "\n",
      "Sentence: \"popular radio storyteller gabriel no one  robin williams  scraggy and speaking in hushed  hypnotic tones  becomes acquainted and friends with a fourteen  year  old boy from wisconsin named pete logand  rory culkin   who has written a book detailing sexual abuse from his parents . to boot  pete has aids and this compels gabriel further still  since his partner jess  bobby cannavale  good  happens to be a survivor of hiv himself .  br    br   he also acquaints himself with pete  s guardian  a woman named donna  toni collette  brilliant   and when gabriel decides he wants to meet and talk to the two of them in person and goes to wisconsin  he discovers some secrets he was  naturally  not prepared to find .  br    br   based on real events that happened to armistead maupin  who co  wrote the screenplay with terry anderson  and directed by patrick stetner  this film moves a lot faster    min .  maybe a few minutes longer  than one might think a movie of this genre would run . that  s good in that it keeps the action and storyline lean and clear . it  s bad in that it leaves various holes in the plot and doesn  t sew  up any of the plot openings or back  story . i  d rather not go into any great detail except to say that  if you are not familiar with mr . maupin  s works or his personal story  you feel a little bit out of the loop here . still  the performances by williams  i would  ve loved to heard more of his narration  personally   collette  cannavale  culkin and much of the supporting cast  the waitress at the restaurant collete  s donna frequents does a great job with what small part she has   are top  notch and the mood established here   namely  the chilly  lonely dark exteriors of wisconsin and new york   give a terrific framing for this story . it may have ends that don  t tie together particularly well  but it  s still a compelling enough story to stick with .  \"\n",
      " → Predicted: Positive (1.0000). Should be: positive\n",
      "\n",
      "Sentence: \"summer season is here when the choices in the cinemas are limited to what  s the hottest movie of the week  given   .   of the screens dedicated to screening it . ok  so i may exaggerate on the percentage  but you get my drift . besides stuff from hollywood  bollywood too have their own share of highly anticipated blockbusters  and from some of the trailers shown  i  m hyped to watch them too . tashan was billed as one of the most highly anticipated for      but i was quite surprised at the lower than low turnout at the cinemas . when i watched jodha akbar  it was a full house  but it wasn  t for tashan .  br    br   after watching it  i knew why . it was entertaining  but it was fundamentally weak . just like it  s literal english title  which means  style   tashan is all style  but little substance . not that it doesn  t have the usual star power  but scenes felt forced  and some bordered on a tad ridiculous  even for bollywood standards i must say . which is quite surprising given that tashan is directed and written by vijay krishna acharya  who wrote dhoom and dhoom   both of which i enjoyed tremendously .  br    br   in his rookie directorial outing with tashan  while you can  t fault his direction  you  d probably scratch your head over the plot  which was clunky at best . it tried to force too many things into the story  though credit be given where it allowed you some avenue to question character motivation  but that came a little too late  and only toward the finale  which left you guessing for just a moment before it latched into full blown action mimicking many a thai action movie  with hong kong  s wirework and hollywood  s ludicrous firearms and gunplay with zero recoil . and in a bid to include everything including the kitchen sink  you have an assortment of vehicles appearing  and the one that took the cake  in a dhoom  homage  was the jetski boat in the middle of nowhere .  br    br   at best  tashan can be enjoyed as unintentional comedy  and this is attributed to how the cast hammed up with their characters . saif ali khan plays jimmy cliff  a call center executive who gives english tuition  only as a platform for fishing out new girlfriend material . his playboy ways gets junked aside when he meets with pooja singh  kareena kapoor   who  s not exactly who she seems  the meek and sweet natured hottie . she engages jimmy  s services for her boss  mobster bhaiyyaji  anil kapoor   who probably gets most of the laughs as he speaks broken english and phrases must like how an ah  beng does it . and to complete the quartet  akshay kumar plays bachchan pandey  an illiterate gangster for hire who got engaged by bhaiyyaji to hunt down jimmy and pooja when they escape with money stolen from bahiyyaji  s business .  br    br   so begins a road trip of sorts  with friends who turned enemies  and enemies whom you know will become friends as the road trip wears on . jimmy cliff is probably the most implausible of all  because he goes from zero to hero  executing moves that would shame rambo  in absolutely no time  which is quite out of character . kareena kapoor amps up the sex factor as she uses her charms to guile both men  and has plenty of opportunity to do so given the much touted bikini scenes  and other costumes that boast of plunging necklines or hemlines way above the knee . every character has a backstory created  and i thought akshay kumar  s bachchan pandey was probably the best  the most touching and the most fun of the lot  even though his character seemed a lot like a non  green incredible hulk with his gravity  defying leaps and power packing punches . his wounds also heal automatically  which impressively puts wolverine to shame . and the best part is his theme song  which is damn alpha  male and played in ra  ra mode each time he takes on adversaries .  br    br   but sad to say  that  s the only tune that is memorable  something that cheers  bachchan  pandey  bachchan  pandey  . for most bollywood movies i watch  i will usually be able to  despite the obvious language gaps  emerge from screenings humming a tune or two . i wasn  t able to do that after tashan  because the songs unfortunately just weren  t catchy at all . usually the song  dance routine works well into the storyline without any necessity to bring the characters out of the current scene or location . that i enjoy  versus plucking them out and plonking them into extreme settings high atop a mountain  or atop jagged rocks on the beach front .  br    br   tashan probably didn  t take itself too seriously  but coming from vijay krishna acharya  s story  you probably wanted something a little more decent rather than the ridiculous  and for continuity to be a little more careful as well . billed as a blockbuster  now i can start to understand why the crowds have already shunned this one . despite akshay kumr stealing the show  tashan could have been better on the whole .  \"\n",
      " → Predicted: Negative (0.0000). Should be: negative\n",
      "\n",
      "Sentence: \"what  s inexplicable  firstly  the hatred towards this movie . it may not be the greatest movie of all time  but gimme a break  it got   oscars for a reason  it made eighteen hundred million dollars for a reason . it  s a damn good movie . which brings to the other inexplicable aspect of it . i have no idea whatsoever why this movie left such an impression on me when i saw it in theaters . i  ve rewatched it on tv and video  and it had none of the impact it had when i saw it on the big screen  twice  or maybe three times  actually  . but that might be it  the appeal of it . it  s a movie  yes  capital m there  it  s an epic  it  s a spectacle in the order of gone with the wind or ben hur . now  ben hur and gone with the wind seem kinda hokey to me  with the hammy acting and excessive melodrama . not that titanic has none of that . well  the acting was actually very good . the melodrama was quite heavy  handed at times .  br    br   but the reason titanic works is that it  s such an emotional ride . i usually enjoy movies that stimulate the mind  or give me a visual thrill . this movie isn  t exactly dumb  but it  s not cerebral at all . the visual thrills are simply means to an end  to fuel the emotions of the audience . i didn  t cry when bambi  s mom died  i don  t react to tearjerkers . but this is a tearjerker to the power of ten million  an emotional rollercoaster that  if it were a regular one  would make buzz aldrin scream like a little girl . and i  m sure that if you see it on video and have decided that you hate it  and have a ready supply of cynicism  then you can thoroughly dislike this movie . but if you let that disbelief suspend just a bit  if you give this epic melodrama the benefit of the doubt  you  ll enjoy it completely . and look at the top ten grossing films of all time . is a single one of them bad  is a single one of them worth a score of  out of    no  not even the phantom menace . and this movie made  .  billion dollars worldwide . it can  t be bad . not possible .      .  br    br   p . s . how can anyone even consider comparing this to spiderman  spiderman was a fun movie  but it was a total     kneejerk that caused it to gross as much as it did . it simply wasn  t anything all that special . no one will remember it in   years . but i  m pretty sure titanic will be remembered .  \"\n",
      " → Predicted: Negative (0.0013). Should be: positive\n",
      "\n",
      "Sentence: \"the film lacks style  i mean original style . everything looks copied including action  first appearances in the movie  songs  dialog delivery  etc etc . yes  there the goof  ups were original  like in the beginning a car is shown with number up number and few seconds later it starts falling down a hill with number mh . that was one in many goof  ups of the movie   anything good in the movie  yes  for kareena fans  if there are any  kareena in bikini . for akshay fans  his dialogs and action stunts . thats it . nothing else . so watch it on your own risk and don  t blame the director or actors . director is already insane and actors  i pity them .  \"\n",
      " → Predicted: Negative (0.0002). Should be: negative\n",
      "\n"
     ]
    }
   ],
   "execution_count": 47
  },
  {
   "metadata": {},
   "cell_type": "markdown",
   "source": [
    "### e)\n",
    "Use the classifier to classify a few sentences you write yourselves.\n",
    "\n",
    "I'll be testing the classification on these custom sentences:\n",
    "1. \"Legendary movie. Orlando bloom nailed his role as Legolas and Peter Jackson really knows how to deliver a faithful story. Not much can be improved, and this movie is certain to become a classic\".\n",
    "2. \"I regret wasting 2 hours of my life seeing this woke garbage.\"\n",
    "3. \"The movie was neither great nor horrible. Okay entertainment, but only if you're very bored\"."
   ],
   "id": "299dc2cd4895abba"
  },
  {
   "metadata": {
    "ExecuteTime": {
     "end_time": "2025-04-17T17:17:25.172538Z",
     "start_time": "2025-04-17T17:17:24.921940Z"
    }
   },
   "cell_type": "code",
   "source": [
    "custom_sentences = [\n",
    "    \"Legendary movie. Orlando bloom nailed his role as Legolas and Peter Jackson really knows how to deliver a faithful story. Not much can be improved, and this movie is certain to become a classic\",\n",
    "    \"I regret wasting 2 hours of my life seeing this woke garbage.\",\n",
    "    \"The movie was neither great nor horrible. Okay entertainment, but only if you're very bored\"\n",
    "]\n",
    "\n",
    "custom_vector = bagOfWords_vector.transform(custom_sentences)\n",
    "custom_predictions = model.predict(custom_vector)\n",
    "\n",
    "for sentence, prob in zip(custom_sentences, custom_predictions):\n",
    "    label = \"Positive\" if prob >= 0.5 else \"Negative\"\n",
    "    print(f\"Sentence: \\\"{sentence}\\\"\\n → Predicted: {label} ({prob[0]:.4f}).\\n\")"
   ],
   "id": "d7380e2b0cbac7dc",
   "outputs": [
    {
     "name": "stdout",
     "output_type": "stream",
     "text": [
      "\u001B[1m1/1\u001B[0m \u001B[32m━━━━━━━━━━━━━━━━━━━━\u001B[0m\u001B[37m\u001B[0m \u001B[1m0s\u001B[0m 133ms/step\n",
      "Sentence: \"Legendary movie. Orlando bloom nailed his role as Legolas and Peter Jackson really knows how to deliver a faithful story. Not much can be improved, and this movie is certain to become a classic\"\n",
      " → Predicted: Positive (0.9996).\n",
      "\n",
      "Sentence: \"I regret wasting 2 hours of my life seeing this woke garbage.\"\n",
      " → Predicted: Negative (0.0262).\n",
      "\n",
      "Sentence: \"The movie was neither great nor horrible. Okay entertainment, but only if you're very bored\"\n",
      " → Predicted: Negative (0.0010).\n",
      "\n"
     ]
    }
   ],
   "execution_count": 48
  },
  {
   "metadata": {},
   "cell_type": "markdown",
   "source": [
    "## Conclusions:\n",
    "The overall training of the neural network and predictions seem faily accurate, albeit not entirely. The bag of words principle works surprisingly well, combined with Artificial Neural Networks (Such as the sequential classifier used). I wonder if using more than 1 hidden layer might improve accuracy without introducing more bias - but that is something that must be tested separately. The trained model still struggles with the reviews that are neither good or bad (the neutral ones), as displayed in my custom_sentences, where I wrote a good review, a bad review and a neutral review.\n",
    "\n",
    "Another point I'm wondering, is it I could improve bag of words performance by filtering out common words such as 'the', 'or', 'and', etc. as these are neither positively or negatively loaded. This could provide more room for more relevant words. Or I could simply increase the number of features. This is also something that must be tested separately."
   ],
   "id": "67f8a46e476fd44a"
  }
 ],
 "metadata": {
  "kernelspec": {
   "display_name": "Python 3 (ipykernel)",
   "language": "python",
   "name": "python3"
  },
  "language_info": {
   "codemirror_mode": {
    "name": "ipython",
    "version": 3
   },
   "file_extension": ".py",
   "mimetype": "text/x-python",
   "name": "python",
   "nbconvert_exporter": "python",
   "pygments_lexer": "ipython3",
   "version": "3.9.12"
  }
 },
 "nbformat": 4,
 "nbformat_minor": 5
}
